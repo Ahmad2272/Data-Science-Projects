{
  "nbformat": 4,
  "nbformat_minor": 0,
  "metadata": {
    "colab": {
      "provenance": []
    },
    "kernelspec": {
      "name": "python3",
      "display_name": "Python 3"
    },
    "language_info": {
      "name": "python"
    }
  },
  "cells": [
    {
      "cell_type": "code",
      "execution_count": 4,
      "metadata": {
        "colab": {
          "base_uri": "https://localhost:8080/"
        },
        "id": "VsNhynVHKV1V",
        "outputId": "9e0df338-64d1-4ace-c030-ae1fc0afb88d"
      },
      "outputs": [
        {
          "output_type": "stream",
          "name": "stdout",
          "text": [
            "Looking in indexes: https://pypi.org/simple, https://us-python.pkg.dev/colab-wheels/public/simple/\n",
            "Requirement already satisfied: yfinance in /usr/local/lib/python3.10/dist-packages (0.2.18)\n",
            "Requirement already satisfied: pandas>=1.3.0 in /usr/local/lib/python3.10/dist-packages (from yfinance) (1.5.3)\n",
            "Requirement already satisfied: numpy>=1.16.5 in /usr/local/lib/python3.10/dist-packages (from yfinance) (1.22.4)\n",
            "Requirement already satisfied: requests>=2.26 in /usr/local/lib/python3.10/dist-packages (from yfinance) (2.27.1)\n",
            "Requirement already satisfied: multitasking>=0.0.7 in /usr/local/lib/python3.10/dist-packages (from yfinance) (0.0.11)\n",
            "Requirement already satisfied: lxml>=4.9.1 in /usr/local/lib/python3.10/dist-packages (from yfinance) (4.9.2)\n",
            "Requirement already satisfied: appdirs>=1.4.4 in /usr/local/lib/python3.10/dist-packages (from yfinance) (1.4.4)\n",
            "Requirement already satisfied: pytz>=2022.5 in /usr/local/lib/python3.10/dist-packages (from yfinance) (2022.7.1)\n",
            "Requirement already satisfied: frozendict>=2.3.4 in /usr/local/lib/python3.10/dist-packages (from yfinance) (2.3.7)\n",
            "Requirement already satisfied: cryptography>=3.3.2 in /usr/local/lib/python3.10/dist-packages (from yfinance) (40.0.2)\n",
            "Requirement already satisfied: beautifulsoup4>=4.11.1 in /usr/local/lib/python3.10/dist-packages (from yfinance) (4.11.2)\n",
            "Requirement already satisfied: html5lib>=1.1 in /usr/local/lib/python3.10/dist-packages (from yfinance) (1.1)\n",
            "Requirement already satisfied: soupsieve>1.2 in /usr/local/lib/python3.10/dist-packages (from beautifulsoup4>=4.11.1->yfinance) (2.4.1)\n",
            "Requirement already satisfied: cffi>=1.12 in /usr/local/lib/python3.10/dist-packages (from cryptography>=3.3.2->yfinance) (1.15.1)\n",
            "Requirement already satisfied: six>=1.9 in /usr/local/lib/python3.10/dist-packages (from html5lib>=1.1->yfinance) (1.16.0)\n",
            "Requirement already satisfied: webencodings in /usr/local/lib/python3.10/dist-packages (from html5lib>=1.1->yfinance) (0.5.1)\n",
            "Requirement already satisfied: python-dateutil>=2.8.1 in /usr/local/lib/python3.10/dist-packages (from pandas>=1.3.0->yfinance) (2.8.2)\n",
            "Requirement already satisfied: urllib3<1.27,>=1.21.1 in /usr/local/lib/python3.10/dist-packages (from requests>=2.26->yfinance) (1.26.15)\n",
            "Requirement already satisfied: certifi>=2017.4.17 in /usr/local/lib/python3.10/dist-packages (from requests>=2.26->yfinance) (2022.12.7)\n",
            "Requirement already satisfied: charset-normalizer~=2.0.0 in /usr/local/lib/python3.10/dist-packages (from requests>=2.26->yfinance) (2.0.12)\n",
            "Requirement already satisfied: idna<4,>=2.5 in /usr/local/lib/python3.10/dist-packages (from requests>=2.26->yfinance) (3.4)\n",
            "Requirement already satisfied: pycparser in /usr/local/lib/python3.10/dist-packages (from cffi>=1.12->cryptography>=3.3.2->yfinance) (2.21)\n",
            "[*********************100%***********************]  1 of 1 completed\n",
            "        Date     Open     High      Low    Close  Adj Close    Volume\n",
            "0 2002-02-13  2.40625  2.51500  2.38125  2.51250   1.691667  76216000\n",
            "1 2002-02-14  2.54375  2.54875  2.48125  2.50000   1.683251  11021600\n",
            "2 2002-02-15  2.50000  2.50625  2.46250  2.48750   1.674834   8389600\n",
            "3 2002-02-19  2.47500  2.47500  2.34375  2.38750   1.607504   7410400\n",
            "4 2002-02-20  2.40000  2.46875  2.38125  2.46875   1.662210   6892800\n",
            "[*********************100%***********************]  1 of 1 completed\n",
            "        Date     Open     High      Low    Close  Adj Close    Volume\n",
            "0 2002-02-13  2.40625  2.51500  2.38125  2.51250   1.691666  76216000\n",
            "1 2002-02-14  2.54375  2.54875  2.48125  2.50000   1.683251  11021600\n",
            "2 2002-02-15  2.50000  2.50625  2.46250  2.48750   1.674834   8389600\n",
            "3 2002-02-19  2.47500  2.47500  2.34375  2.38750   1.607504   7410400\n",
            "4 2002-02-20  2.40000  2.46875  2.38125  2.46875   1.662210   6892800\n"
          ]
        }
      ],
      "source": [
        "!pip install yfinance\n",
        "import yfinance as yf\n",
        "\n",
        "# Define the ticker symbol for GameStop\n",
        "ticker = 'GME'\n",
        "\n",
        "# Extract the stock data using yfinance\n",
        "gme_data = yf.download(ticker)\n",
        "\n",
        "# Reset the index\n",
        "gme_data.reset_index(inplace=True)\n",
        "\n",
        "# Display the first five rows of the dataframe\n",
        "print(gme_data.head())\n",
        "import yfinance as yf\n",
        "\n",
        "# Define the ticker symbol for GameStop\n",
        "ticker = 'GME'\n",
        "\n",
        "# Extract the stock data using yfinance\n",
        "gme_data = yf.download(ticker)\n",
        "\n",
        "# Reset the index\n",
        "gme_data.reset_index(inplace=True)\n",
        "\n",
        "# Display the first five rows of the dataframe\n",
        "print(gme_data.head())\n"
      ]
    }
  ]
}